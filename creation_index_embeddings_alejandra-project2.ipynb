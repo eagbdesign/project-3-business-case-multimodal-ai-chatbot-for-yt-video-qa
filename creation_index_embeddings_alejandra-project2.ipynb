{
 "cells": [
  {
   "cell_type": "markdown",
   "metadata": {},
   "source": [
    "1. Setup"
   ]
  },
  {
   "cell_type": "code",
   "execution_count": null,
   "metadata": {},
   "outputs": [],
   "source": [
    "! pip install pinecone-client\n"
   ]
  },
  {
   "cell_type": "code",
   "execution_count": null,
   "metadata": {},
   "outputs": [],
   "source": [
    "! pip install langchain[extras]\n"
   ]
  },
  {
   "cell_type": "code",
   "execution_count": 12,
   "metadata": {},
   "outputs": [
    {
     "name": "stdout",
     "output_type": "stream",
     "text": [
      "Pinecone instalado y funcionando correctamente.\n"
     ]
    }
   ],
   "source": [
    "import pinecone\n",
    "\n",
    "print(\"Pinecone instalado y funcionando correctamente.\")\n"
   ]
  },
  {
   "cell_type": "code",
   "execution_count": 13,
   "metadata": {},
   "outputs": [
    {
     "name": "stdout",
     "output_type": "stream",
     "text": [
      "Preguntas frecuentes cargadas: 9\n"
     ]
    }
   ],
   "source": [
    "# Importar bibliotecas\n",
    "import json\n",
    "\n",
    "# Cargar el archivo faq.json\n",
    "with open(\"textos/faq.json\", \"r\", encoding=\"utf-8\") as file:\n",
    "    faq_data = json.load(file)\n",
    "\n",
    "# Verificar que faq.json esté cargado correctamente\n",
    "print(\"Preguntas frecuentes cargadas:\", len(faq_data))\n"
   ]
  },
  {
   "cell_type": "markdown",
   "metadata": {},
   "source": [
    "2. Define Function for answering quesitons"
   ]
  },
  {
   "cell_type": "code",
   "execution_count": 14,
   "metadata": {},
   "outputs": [],
   "source": [
    "def chatbot(query):\n",
    "    # Buscar preguntas similares en faq_data\n",
    "    for entry in faq_data:\n",
    "        if query.lower() in entry[\"question\"].lower():\n",
    "            return entry[\"answer\"]\n",
    "    return \"Lo siento, no tengo información para esa pregunta. ¿Puedes reformularla?\"\n"
   ]
  },
  {
   "cell_type": "markdown",
   "metadata": {},
   "source": [
    "3. verify json"
   ]
  },
  {
   "cell_type": "code",
   "execution_count": null,
   "metadata": {},
   "outputs": [],
   "source": [
    "\n",
    "# Cargar el JSON\n",
    "with open(\"textos/faq.json\", \"r\", encoding=\"utf-8\") as file:\n",
    "    faq_data = json.load(file)\n",
    "\n",
    "# Verificar las primeras entradas\n",
    "print(\"Total de entradas:\", len(faq_data))\n",
    "print(\"Primeras 3 preguntas:\")\n",
    "for entry in faq_data[:3]:  # Muestra las primeras 3 preguntas\n",
    "    print(\"Pregunta:\", entry[\"question\"])\n",
    "    print(\"Respuesta:\", entry[\"answer\"])\n",
    "    print()\n"
   ]
  },
  {
   "cell_type": "markdown",
   "metadata": {},
   "source": [
    "**Embeddings Generation and Pincode**"
   ]
  },
  {
   "cell_type": "markdown",
   "metadata": {},
   "source": [
    "1. SETUP"
   ]
  },
  {
   "cell_type": "code",
   "execution_count": 16,
   "metadata": {},
   "outputs": [],
   "source": [
    "from langchain.embeddings.openai import OpenAIEmbeddings\n",
    "from langchain.vectorstores import Pinecone\n",
    "import pinecone\n",
    "import json\n",
    "from dotenv import load_dotenv\n",
    "import os\n",
    "\n",
    "# Cargar variables de entorno\n",
    "load_dotenv()\n",
    "openai_api_key = os.getenv(\"OPENAI_API_KEY\")\n",
    "pinecone_api_key = os.getenv(\"PINECONE_API_KEY\")\n",
    "pinecone_env = os.getenv(\"PINECONE_ENV\")  # Región de Pinecone\n"
   ]
  },
  {
   "cell_type": "code",
   "execution_count": 17,
   "metadata": {},
   "outputs": [
    {
     "name": "stdout",
     "output_type": "stream",
     "text": [
      "PINECONE_API_KEY: pcsk_pb1LW_2rvzUder7H9V8A4p7ehWRv5DjJttpATaaBxKgSZEkJEp6UtGwT4g8CzKzZ3xLWg\n",
      "PINECONE_ENV: eu-west-1\n"
     ]
    }
   ],
   "source": [
    "# Verificar que las claves están cargadas\n",
    "print(\"PINECONE_API_KEY:\", pinecone_api_key)\n",
    "print(\"PINECONE_ENV:\", pinecone_env)\n"
   ]
  },
  {
   "cell_type": "markdown",
   "metadata": {},
   "source": [
    "2. Setup of Q&A con Pincone"
   ]
  },
  {
   "cell_type": "code",
   "execution_count": 18,
   "metadata": {},
   "outputs": [
    {
     "name": "stdout",
     "output_type": "stream",
     "text": [
      "Índices existentes: ['alejandra-project', 'alejandra-project2', 'about-conditions-index', 'alejandra-combined']\n"
     ]
    }
   ],
   "source": [
    "from pinecone import Pinecone\n",
    "\n",
    "# Crear una instancia de Pinecone con tu API Key\n",
    "pc = Pinecone(api_key=pinecone_api_key)\n",
    "\n",
    "# Listar índices disponibles\n",
    "existing_indexes = pc.list_indexes()\n",
    "print(\"Índices existentes:\", [i[\"name\"] for i in existing_indexes])\n"
   ]
  },
  {
   "cell_type": "code",
   "execution_count": 19,
   "metadata": {},
   "outputs": [],
   "source": [
    "from pinecone import Pinecone, ServerlessSpec\n",
    "\n"
   ]
  },
  {
   "cell_type": "code",
   "execution_count": 20,
   "metadata": {},
   "outputs": [
    {
     "name": "stdout",
     "output_type": "stream",
     "text": [
      "El índice 'alejandra-project2' ya existe.\n",
      "Índice 'alejandra-project2' conectado.\n"
     ]
    }
   ],
   "source": [
    "# Crear una instancia de Pinecone\n",
    "pc = Pinecone(api_key=pinecone_api_key)\n",
    "\n",
    "# Especificar la región y proveedor (serverless)\n",
    "spec = ServerlessSpec(cloud=\"aws\", region=pinecone_env)\n",
    "\n",
    "# Crear un índice para el proyecto de Alejandra\n",
    "index_name = \"alejandra-project2\"\n",
    "if index_name not in [i[\"name\"] for i in pc.list_indexes()]:\n",
    "    pc.create_index(\n",
    "        name=index_name,\n",
    "        dimension=1536,  # Dimensiones para text-embedding-ada-002\n",
    "        metric=\"cosine\",  # Métrica de similitud                                      other options:   dotproduct\n",
    "        spec=spec\n",
    "    )\n",
    "    print(f\"Índice '{index_name}' creado con éxito.\")\n",
    "else:\n",
    "    print(f\"El índice '{index_name}' ya existe.\")\n",
    "\n",
    "# Conectar al índice\n",
    "index = pc.Index(index_name)\n",
    "print(f\"Índice '{index_name}' conectado.\")"
   ]
  },
  {
   "cell_type": "markdown",
   "metadata": {},
   "source": [
    "**USE DATASET** "
   ]
  },
  {
   "cell_type": "code",
   "execution_count": null,
   "metadata": {},
   "outputs": [],
   "source": [
    "! pip install tqdm langchain pandas"
   ]
  },
  {
   "cell_type": "code",
   "execution_count": 2,
   "metadata": {},
   "outputs": [
    {
     "name": "stdout",
     "output_type": "stream",
     "text": [
      "Requirement already satisfied: pandas in /Users/kikegarciabello/anaconda3/lib/python3.12/site-packages (2.2.2)\n",
      "Requirement already satisfied: numpy>=1.26.0 in /Users/kikegarciabello/anaconda3/lib/python3.12/site-packages (from pandas) (1.26.4)\n",
      "Requirement already satisfied: python-dateutil>=2.8.2 in /Users/kikegarciabello/anaconda3/lib/python3.12/site-packages (from pandas) (2.9.0.post0)\n",
      "Requirement already satisfied: pytz>=2020.1 in /Users/kikegarciabello/anaconda3/lib/python3.12/site-packages (from pandas) (2024.1)\n",
      "Requirement already satisfied: tzdata>=2022.7 in /Users/kikegarciabello/anaconda3/lib/python3.12/site-packages (from pandas) (2023.3)\n",
      "Requirement already satisfied: six>=1.5 in /Users/kikegarciabello/anaconda3/lib/python3.12/site-packages (from python-dateutil>=2.8.2->pandas) (1.16.0)\n"
     ]
    }
   ],
   "source": [
    "!pip install pandas\n"
   ]
  },
  {
   "cell_type": "markdown",
   "metadata": {},
   "source": [
    "------mepezar desde aqui -----"
   ]
  },
  {
   "cell_type": "code",
   "execution_count": null,
   "metadata": {},
   "outputs": [],
   "source": [
    "import pandas as pd\n",
    "\n",
    "# Cargar el archivo CSV con pandas\n",
    "try:\n",
    "    faq_data = pd.read_csv(\"faq_dataset.csv\", encoding=\"utf-8\")\n",
    "    print(faq_data.head())  # Muestra las primeras filas para verificar\n",
    "except Exception as e:\n",
    "    print(\"Error al cargar el archivo CSV:\", e)\n",
    "\n"
   ]
  },
  {
   "cell_type": "code",
   "execution_count": 21,
   "metadata": {},
   "outputs": [],
   "source": [
    "faq_data = pd.read_csv(\"faq_dataset.csv\", encoding=\"utf-8-sig\")\n"
   ]
  },
  {
   "cell_type": "code",
   "execution_count": null,
   "metadata": {},
   "outputs": [],
   "source": [
    "# Cargar el archivo CSV\n",
    "faq_data = pd.read_csv(\"faq_dataset.csv\", encoding=\"utf-8\")\n",
    "\n",
    "# Iterar sobre preguntas y respuestas\n",
    "for _, row in faq_data.iterrows():\n",
    "    question = row[\"question\"]\n",
    "    answer = row[\"answer\"]\n",
    "    print(f\"Pregunta: {question}, Respuesta: {answer}\")\n"
   ]
  },
  {
   "cell_type": "markdown",
   "metadata": {},
   "source": [
    "**EMBEDDINGS**"
   ]
  },
  {
   "cell_type": "code",
   "execution_count": 23,
   "metadata": {},
   "outputs": [
    {
     "data": {
      "application/vnd.jupyter.widget-view+json": {
       "model_id": "c5a1bde411034f498b0476ab62497e91",
       "version_major": 2,
       "version_minor": 0
      },
      "text/plain": [
       "  0%|          | 0/1 [00:00<?, ?it/s]"
      ]
     },
     "metadata": {},
     "output_type": "display_data"
    },
    {
     "name": "stdout",
     "output_type": "stream",
     "text": [
      "Embeddings generados y subidos al índice.\n"
     ]
    }
   ],
   "source": [
    "from tqdm.auto import tqdm\n",
    "from langchain.embeddings.openai import OpenAIEmbeddings\n",
    "\n",
    "# Configurar OpenAI embeddings\n",
    "embeddings = OpenAIEmbeddings(openai_api_key=os.getenv(\"OPENAI_API_KEY\"))\n",
    "\n",
    "# Subir los embeddings al índice en lotes\n",
    "batch_size = 100\n",
    "questions = faq_data[\"question\"].tolist()\n",
    "answers = faq_data[\"answer\"].tolist()\n",
    "\n",
    "for i in tqdm(range(0, len(questions), batch_size)):\n",
    "    # Obtener el lote actual\n",
    "    i_end = min(len(questions), i + batch_size)\n",
    "    batch_questions = questions[i:i_end]\n",
    "    batch_answers = answers[i:i_end]\n",
    "\n",
    "    # Generar embeddings\n",
    "    batch_embeddings = embeddings.embed_documents(batch_questions + batch_answers)\n",
    "   \n",
    "\n",
    "    # Generar IDs únicos y metadatos\n",
    "    ids = [f\"q-{j}\" for j in range(i, i_end)]\n",
    "    metadatas = [{\"question\": q, \"answer\": a} for q, a in zip(batch_questions, batch_answers)]\n",
    "\n",
    "    # Subir a Pinecone\n",
    "    index.upsert(vectors=zip(ids, batch_embeddings, metadatas))\n",
    "\n",
    "print(\"Embeddings generados y subidos al índice.\")\n"
   ]
  },
  {
   "cell_type": "code",
   "execution_count": 24,
   "metadata": {},
   "outputs": [
    {
     "name": "stdout",
     "output_type": "stream",
     "text": [
      "Estadísticas del índice: {'dimension': 1536,\n",
      " 'index_fullness': 0.0,\n",
      " 'namespaces': {'': {'vector_count': 10}},\n",
      " 'total_vector_count': 10}\n"
     ]
    }
   ],
   "source": [
    "# Verificar el estado del índice\n",
    "stats = index.describe_index_stats()\n",
    "print(f\"Estadísticas del índice: {stats}\")\n"
   ]
  },
  {
   "cell_type": "code",
   "execution_count": null,
   "metadata": {},
   "outputs": [],
   "source": [
    "# Realizar una consulta de prueba\n",
    "query = \"¿Qué pasa en una terapia psicológica?\"\n",
    "query_embedding = embeddings.embed_query(query)\n",
    "\n",
    "# Buscar en Pinecone usando argumentos con nombre\n",
    "results = index.query(vector=query_embedding, top_k=3, include_metadata=True)\n",
    "\n",
    "# Mostrar los resultados\n",
    "for match in results[\"matches\"]:\n",
    "    print(f\"Pregunta: {match['metadata']['question']}\")\n",
    "    print(f\"Respuesta: {match['metadata']['answer']}\")\n",
    "    print(f\"Similitud: {match['score']}\")\n"
   ]
  }
 ],
 "metadata": {
  "kernelspec": {
   "display_name": "base",
   "language": "python",
   "name": "python3"
  },
  "language_info": {
   "codemirror_mode": {
    "name": "ipython",
    "version": 3
   },
   "file_extension": ".py",
   "mimetype": "text/x-python",
   "name": "python",
   "nbconvert_exporter": "python",
   "pygments_lexer": "ipython3",
   "version": "3.12.4"
  }
 },
 "nbformat": 4,
 "nbformat_minor": 2
}
