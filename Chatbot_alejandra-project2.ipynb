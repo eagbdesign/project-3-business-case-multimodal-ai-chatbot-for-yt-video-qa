{
 "cells": [
  {
   "cell_type": "markdown",
   "metadata": {},
   "source": [
    "**1. Installs**"
   ]
  },
  {
   "cell_type": "code",
   "execution_count": 1,
   "metadata": {},
   "outputs": [
    {
     "data": {
      "text/plain": [
       "'! pip install openai\\n! pip install pinecone-client\\n! pip install langchain[extras]\\n! pip install -U langchain-community\\n! pip install tiktoken\\n'"
      ]
     },
     "execution_count": 1,
     "metadata": {},
     "output_type": "execute_result"
    }
   ],
   "source": [
    "'''! pip install openai\n",
    "! pip install pinecone-client\n",
    "! pip install langchain[extras]\n",
    "! pip install -U langchain-community\n",
    "! pip install tiktoken\n",
    "'''"
   ]
  },
  {
   "cell_type": "code",
   "execution_count": 2,
   "metadata": {},
   "outputs": [],
   "source": [
    "import gradio as gr"
   ]
  },
  {
   "cell_type": "markdown",
   "metadata": {},
   "source": [
    "**2.Setup pinecone**"
   ]
  },
  {
   "cell_type": "code",
   "execution_count": 3,
   "metadata": {},
   "outputs": [
    {
     "name": "stdout",
     "output_type": "stream",
     "text": [
      "Pinecone instalado y funcionando correctamente.\n"
     ]
    }
   ],
   "source": [
    "import pinecone\n",
    "import json\n",
    "import os\n",
    "from langchain.vectorstores import Pinecone\n",
    "from langchain.embeddings.openai import OpenAIEmbeddings\n",
    "from dotenv import load_dotenv\n",
    "load_dotenv()\n",
    "os.environ[\"LANGCHAIN_TRACING_V2\"] = \"true\"\n",
    "os.environ[\"LANGCHAIN_ENDPOINT\"]=\"https://api.smith.langchain.com\"\n",
    "os.environ[\"LANGCHAIN_PROJECT\"]=\"alejandra2\"\n",
    "LANGSMITH_API_KEY = os.getenv(\"LANGSMITH_API_KEY\")\n",
    "openai_api_key = os.getenv(\"OPENAI_API_KEY\")\n",
    "pinecone_api_key = os.getenv(\"PINECONE_API_KEY\")\n",
    "pinecone_env = os.getenv(\"PINECONE_ENV\")  # Región de Pinecone\n",
    "\n",
    "print(\"Pinecone instalado y funcionando correctamente.\")"
   ]
  },
  {
   "cell_type": "code",
   "execution_count": 4,
   "metadata": {},
   "outputs": [
    {
     "name": "stdout",
     "output_type": "stream",
     "text": [
      "Índices existentes: ['alejandra-project', 'alejandra-project2', 'about-conditions-index', 'alejandra-combined']\n"
     ]
    }
   ],
   "source": [
    "from pinecone import Pinecone, ServerlessSpec\n",
    "\n",
    "# Crear una instancia de Pinecone con tu API Key\n",
    "pc = Pinecone(api_key=pinecone_api_key)\n",
    "\n",
    "# Listar índices disponibles\n",
    "existing_indexes = pc.list_indexes()\n",
    "print(\"Índices existentes:\", [i[\"name\"] for i in existing_indexes])"
   ]
  },
  {
   "cell_type": "code",
   "execution_count": 5,
   "metadata": {},
   "outputs": [
    {
     "name": "stdout",
     "output_type": "stream",
     "text": [
      "Índice 'alejandra-project2' conectado.\n"
     ]
    }
   ],
   "source": [
    "# Especificar la región y proveedor (serverless)\n",
    "spec = ServerlessSpec(cloud=\"aws\", region=pinecone_env)\n",
    "\n",
    "index_name = \"alejandra-project2\"\n",
    "# Conectar al índice\n",
    "index = pc.Index(index_name)\n",
    "print(f\"Índice '{index_name}' conectado.\")"
   ]
  },
  {
   "cell_type": "markdown",
   "metadata": {},
   "source": [
    "**3.Setup Retriever**"
   ]
  },
  {
   "cell_type": "code",
   "execution_count": 32,
   "metadata": {},
   "outputs": [
    {
     "name": "stdout",
     "output_type": "stream",
     "text": [
      "✅ Contexto inicial añadido al agente.\n"
     ]
    }
   ],
   "source": [
    "from langchain.vectorstores import Pinecone\n",
    "\n",
    "from langchain.embeddings.openai import OpenAIEmbeddings\n",
    "\n",
    "# Configurar OpenAI embeddings\n",
    "embeddings = OpenAIEmbeddings(openai_api_key=os.getenv(\"OPENAI_API_KEY\"))\n",
    "\n",
    "\n",
    "# Configurar el vectorstore con Pinecone\n",
    "vectorstore = Pinecone.from_existing_index(\n",
    "    index_name=\"alejandra-project2\",  # Nombre del índice creado en Pinecone\n",
    "    embedding=embeddings,           # Embeddings de OpenAI (ya configurados)\n",
    "    text_key=\"question\"             # Campo en los metadatos donde se almacena la pregunta\n",
    ")\n",
    "\n",
    "response = \"¿puedes bucar informacion sobre alejandra roncancio y sus terapias en los documentos dados?\"\n",
    "# Perform similarity search\n",
    "vectorstore.similarity_search(\n",
    "    response,  # Our search query\n",
    "    k=3  # Return 3 most relevant docs\n",
    ")\n",
    "\n",
    "'''# Convertir el vectorstore en un retriever\n",
    "retriever = vectorstore.as_retriever()'''\n",
    "\n",
    "print(\"✅ Contexto inicial añadido al agente.\")\n"
   ]
  },
  {
   "cell_type": "markdown",
   "metadata": {},
   "source": [
    "----extra cell embedding-----"
   ]
  },
  {
   "cell_type": "code",
   "execution_count": 21,
   "metadata": {},
   "outputs": [],
   "source": [
    "# Realizar una consulta de prueba\n",
    "query = \"¿Qué pasa en una terapia psicológica?\"\n",
    "query_embedding = embeddings.embed_query(query)\n",
    "\n",
    "# Buscar en Pinecone usando argumentos con nombre\n",
    "results = index.query(vector=query_embedding, top_k=3, include_metadata=True)\n",
    "\n"
   ]
  },
  {
   "cell_type": "code",
   "execution_count": 22,
   "metadata": {},
   "outputs": [],
   "source": [
    "faq_retriever = Pinecone.from_existing_index(\n",
    "    index_name=\"alejandra-project2\",  # Nombre correcto del índice de FAQ\n",
    "    embedding=embeddings,\n",
    "    text_key=\"answer\"  # Clave del campo que contiene las preguntas\n",
    ").as_retriever()"
   ]
  },
  {
   "cell_type": "markdown",
   "metadata": {},
   "source": [
    "**Updating prompt**"
   ]
  },
  {
   "cell_type": "code",
   "execution_count": 23,
   "metadata": {},
   "outputs": [],
   "source": [
    "from langchain_core.prompts import ChatPromptTemplate\n",
    "from langchain.chains import create_retrieval_chain\n",
    "from langchain.chains.combine_documents import create_stuff_documents_chain"
   ]
  },
  {
   "cell_type": "code",
   "execution_count": 33,
   "metadata": {},
   "outputs": [
    {
     "name": "stdout",
     "output_type": "stream",
     "text": [
      "\n",
      "\n",
      "\u001b[1m> Entering new AgentExecutor chain...\u001b[0m\n",
      "\u001b[32;1m\u001b[1;3m```json\n",
      "{\n",
      "    \"action\": \"Knowledge Base\",\n",
      "    \"action_input\": \"Alejandra Roncancio\"\n",
      "}\n",
      "```\u001b[0m\n",
      "Observation: \u001b[36;1m\u001b[1;3mNo sé quién es Alejandra Roncancio.\u001b[0m\n",
      "Thought:\u001b[32;1m\u001b[1;3m```json\n",
      "{\n",
      "    \"action\": \"Final Answer\",\n",
      "    \"action_input\": \"No tengo información específica sobre Alejandra Roncancio. Para asegurarte de que estás en manos de un profesional, puedes verificar sus credenciales, buscar reseñas de otros pacientes y confirmar que esté registrada en una asociación profesional de psicología. También es importante que te sientas cómodo y seguro durante las sesiones.\"\n",
      "}\n",
      "```\u001b[0m\n",
      "\n",
      "\u001b[1m> Finished chain.\u001b[0m\n"
     ]
    }
   ],
   "source": [
    "system_prompt = (\n",
    "    \"Utiliza el contexto dado para responder a la pregunta.\"\n",
    "    \"Si no sabes la respuesta, di que no la sabes.\"\n",
    "    \"Utiliza un máximo de tres frases y sé conciso en la respuesta.\"\n",
    "    \"El nombre de la persona dueña de la informacion que te he dado es Alejandra Roncancio y ofrece terapias a clientes de habla hispana y alemana en Alemania.\"\n",
    "    \"Context: {context}\"\n",
    ")\n",
    "prompt = ChatPromptTemplate.from_messages(\n",
    "    [\n",
    "        (\"system\", system_prompt),\n",
    "        (\"human\", \"{input}\"),\n",
    "    ]\n",
    ")"
   ]
  },
  {
   "cell_type": "markdown",
   "metadata": {},
   "source": [
    "**4. Conversational Agent with langchain**"
   ]
  },
  {
   "cell_type": "code",
   "execution_count": 25,
   "metadata": {},
   "outputs": [
    {
     "name": "stderr",
     "output_type": "stream",
     "text": [
      "/var/folders/ln/h2lpkllx5fl21m8307tnfsdc0000gn/T/ipykernel_25371/1251242280.py:8: LangChainDeprecationWarning: The class `ChatOpenAI` was deprecated in LangChain 0.0.10 and will be removed in 1.0. An updated version of the class exists in the :class:`~langchain-openai package and should be used instead. To use it run `pip install -U :class:`~langchain-openai` and import as `from :class:`~langchain_openai import ChatOpenAI``.\n",
      "  llm = ChatOpenAI(\n",
      "/var/folders/ln/h2lpkllx5fl21m8307tnfsdc0000gn/T/ipykernel_25371/1251242280.py:37: LangChainDeprecationWarning: Please see the migration guide at: https://python.langchain.com/docs/versions/migrating_memory/\n",
      "  memory = ConversationBufferWindowMemory(\n",
      "/var/folders/ln/h2lpkllx5fl21m8307tnfsdc0000gn/T/ipykernel_25371/1251242280.py:44: LangChainDeprecationWarning: LangChain agents will continue to be supported, but it is recommended for new use cases to be built with LangGraph. LangGraph offers a more flexible and full-featured framework for building agents, including support for tool-calling, persistence of state, and human-in-the-loop workflows. For details, refer to the `LangGraph documentation <https://langchain-ai.github.io/langgraph/>`_ as well as guides for `Migrating from AgentExecutor <https://python.langchain.com/docs/how_to/migrate_agent/>`_ and LangGraph's `Pre-built ReAct agent <https://langchain-ai.github.io/langgraph/how-tos/create-react-agent/>`_.\n",
      "  agent = initialize_agent(\n"
     ]
    }
   ],
   "source": [
    "from langchain.chat_models import ChatOpenAI\n",
    "from langchain.agents import Tool, initialize_agent\n",
    "from langchain.chains import RetrievalQA\n",
    "from langchain.memory import ConversationBufferWindowMemory\n",
    "\n",
    "\n",
    "# Configurar el modelo de lenguaje (ChatOpenAI)\n",
    "llm = ChatOpenAI(\n",
    "    model_name=\"gpt-4o-mini\",  # Modelo de OpenAI\n",
    "    openai_api_key=os.getenv(\"OPENAI_API_KEY\"),\n",
    "    temperature=0.0  # Respuestas más determinísticas\n",
    ")\n",
    "\n",
    "# Configurar el QA Chain con el retriever\n",
    "qa_chain = RetrievalQA.from_chain_type(\n",
    "    llm=llm,\n",
    "    retriever=faq_retriever,\n",
    "    chain_type=\"stuff\",  # Recupera contexto y genera una respuesta\n",
    ")\n",
    "\n",
    "# Configurar herramientas para el agente\n",
    "tools = [\n",
    "    Tool(\n",
    "        name=\"Knowledge Base\",\n",
    "        func=qa_chain.run,\n",
    "        description=\"Usa esta herramienta para responder preguntas sobre psicología y terapias basadas en el conocimiento disponible y ademas informacion sobre Alejandra Roncancio.\"\n",
    "    )\n",
    "]\n",
    "\n",
    "\n",
    "# Configurar memoria conversacional\n",
    "memory = ConversationBufferWindowMemory(\n",
    "    memory_key=\"chat_history\",  # Clave para almacenar el historial de la conversación\n",
    "    return_messages=True,       # Devuelve mensajes completos\n",
    "    k=3                         # Recuerda hasta 5 mensajes previos\n",
    ")\n",
    "\n",
    "# Inicializar el agente conversacional\n",
    "agent = initialize_agent(\n",
    "    tools=tools,\n",
    "    llm=llm,\n",
    "    agent=\"chat-conversational-react-description\",  # Tipo de agente\n",
    "    verbose=True,\n",
    "    memory=memory,\n",
    "    early_stopping_method='generate'\n",
    ")\n"
   ]
  },
  {
   "cell_type": "code",
   "execution_count": null,
   "metadata": {},
   "outputs": [],
   "source": [
    "print(qa_chain.combine_documents_chain.llm_chain.prompt.template)"
   ]
  },
  {
   "cell_type": "markdown",
   "metadata": {},
   "source": [
    "**TEST**"
   ]
  },
  {
   "cell_type": "code",
   "execution_count": 26,
   "metadata": {},
   "outputs": [
    {
     "name": "stderr",
     "output_type": "stream",
     "text": [
      "/var/folders/ln/h2lpkllx5fl21m8307tnfsdc0000gn/T/ipykernel_25371/1807255936.py:2: LangChainDeprecationWarning: The method `Chain.run` was deprecated in langchain 0.1.0 and will be removed in 1.0. Use :meth:`~invoke` instead.\n",
      "  response = agent.run(\"¿Qué pasa en una terapia psicológica?\")\n"
     ]
    },
    {
     "name": "stdout",
     "output_type": "stream",
     "text": [
      "\n",
      "\n",
      "\u001b[1m> Entering new AgentExecutor chain...\u001b[0m\n",
      "\u001b[32;1m\u001b[1;3m```json\n",
      "{\n",
      "    \"action\": \"Knowledge Base\",\n",
      "    \"action_input\": \"¿Qué pasa en una terapia psicológica?\"\n",
      "}\n",
      "```\u001b[0m\n",
      "Observation: \u001b[36;1m\u001b[1;3mEn una terapia psicológica, el proceso puede variar dependiendo del enfoque del terapeuta y las necesidades del paciente. Generalmente, en la primera cita, el terapeuta se dedica a conocer al paciente, hacer preguntas y escuchar las razones que lo llevan a la consulta. Con esta información, el terapeuta puede determinar la forma de trabajo más adecuada y transmitir sus impresiones sobre cómo abordará el tratamiento.\n",
      "\n",
      "En las citas posteriores, se pueden trabajar los resultados de tareas propuestas, realizar ejercicios, o preparar al paciente para técnicas específicas, como el EMDR en casos de procesamiento de trauma. El enfoque se centra en lo que trae al paciente a la consulta y en los aspectos de su vida relacionados con sus dificultades.\n",
      "\n",
      "Es importante mencionar que si una persona presenta síntomas muy incapacitantes o se encuentra en riesgo, se recomienda acudir a una unidad de psiquiatría. En otros casos, se puede optar por terapia psicológica o psiquiátrica, o incluso un tratamiento combinado.\u001b[0m\n",
      "Thought:\u001b[32;1m\u001b[1;3m```json\n",
      "{\n",
      "    \"action\": \"Final Answer\",\n",
      "    \"action_input\": \"En una terapia psicológica, el proceso puede variar dependiendo del enfoque del terapeuta y las necesidades del paciente. Generalmente, en la primera cita, el terapeuta se dedica a conocer al paciente, hacer preguntas y escuchar las razones que lo llevan a la consulta. Con esta información, el terapeuta puede determinar la forma de trabajo más adecuada y transmitir sus impresiones sobre cómo abordará el tratamiento. En las citas posteriores, se pueden trabajar los resultados de tareas propuestas, realizar ejercicios, o preparar al paciente para técnicas específicas, como el EMDR en casos de procesamiento de trauma. El enfoque se centra en lo que trae al paciente a la consulta y en los aspectos de su vida relacionados con sus dificultades. Es importante mencionar que si una persona presenta síntomas muy incapacitantes o se encuentra en riesgo, se recomienda acudir a una unidad de psiquiatría. En otros casos, se puede optar por terapia psicológica o psiquiátrica, o incluso un tratamiento combinado.\"\n",
      "}\n",
      "```\u001b[0m\n",
      "\n",
      "\u001b[1m> Finished chain.\u001b[0m\n",
      "Respuesta del agente: En una terapia psicológica, el proceso puede variar dependiendo del enfoque del terapeuta y las necesidades del paciente. Generalmente, en la primera cita, el terapeuta se dedica a conocer al paciente, hacer preguntas y escuchar las razones que lo llevan a la consulta. Con esta información, el terapeuta puede determinar la forma de trabajo más adecuada y transmitir sus impresiones sobre cómo abordará el tratamiento. En las citas posteriores, se pueden trabajar los resultados de tareas propuestas, realizar ejercicios, o preparar al paciente para técnicas específicas, como el EMDR en casos de procesamiento de trauma. El enfoque se centra en lo que trae al paciente a la consulta y en los aspectos de su vida relacionados con sus dificultades. Es importante mencionar que si una persona presenta síntomas muy incapacitantes o se encuentra en riesgo, se recomienda acudir a una unidad de psiquiatría. En otros casos, se puede optar por terapia psicológica o psiquiátrica, o incluso un tratamiento combinado.\n"
     ]
    }
   ],
   "source": [
    "# Probar el agente con una pregunta inicial\n",
    "response = agent.run(\"¿Qué pasa en una terapia psicológica?\")\n",
    "print(\"Respuesta del agente:\", response)"
   ]
  },
  {
   "cell_type": "code",
   "execution_count": 30,
   "metadata": {},
   "outputs": [
    {
     "name": "stdout",
     "output_type": "stream",
     "text": [
      "\n",
      "\n",
      "\u001b[1m> Entering new AgentExecutor chain...\u001b[0m\n",
      "\u001b[32;1m\u001b[1;3m```json\n",
      "{\n",
      "    \"action\": \"Knowledge Base\",\n",
      "    \"action_input\": \"Información de contacto de Alejandra Roncancio\"\n",
      "}\n",
      "```\u001b[0m\n",
      "Observation: \u001b[36;1m\u001b[1;3mNo tengo información sobre Alejandra Roncancio.\u001b[0m\n",
      "Thought:\u001b[32;1m\u001b[1;3m```json\n",
      "{\n",
      "    \"action\": \"Final Answer\",\n",
      "    \"action_input\": \"Lo siento, no tengo información de contacto sobre Alejandra Roncancio.\"\n",
      "}\n",
      "```\u001b[0m\n",
      "\n",
      "\u001b[1m> Finished chain.\u001b[0m\n",
      "Respuesta del chatbot (General Info): Lo siento, no tengo información de contacto sobre Alejandra Roncancio.\n"
     ]
    },
    {
     "name": "stdout",
     "output_type": "stream",
     "text": [
      "\n",
      "\n",
      "\u001b[1m> Entering new AgentExecutor chain...\u001b[0m\n",
      "\u001b[32;1m\u001b[1;3m```json\n",
      "{\n",
      "    \"action\": \"Knowledge Base\",\n",
      "    \"action_input\": \"¿Alejandra Roncancio es certificada en EMDR?\"\n",
      "}\n",
      "```\u001b[0m\n",
      "Observation: \u001b[36;1m\u001b[1;3mNo sé si Alejandra Roncancio es certificada en EMDR.\u001b[0m\n",
      "Thought:\u001b[32;1m\u001b[1;3m```json\n",
      "{\n",
      "    \"action\": \"Final Answer\",\n",
      "    \"action_input\": \"No tengo información sobre si Alejandra Roncancio es certificada en EMDR.\"\n",
      "}\n",
      "```\u001b[0m\n",
      "\n",
      "\u001b[1m> Finished chain.\u001b[0m\n",
      "\n",
      "\n",
      "\u001b[1m> Entering new AgentExecutor chain...\u001b[0m\n",
      "\u001b[32;1m\u001b[1;3m```json\n",
      "{\n",
      "    \"action\": \"Final Answer\",\n",
      "    \"action_input\": \"Es natural tener dudas sobre la autenticidad de una persona o servicio. Para asegurarte de que no es un engaño, puedes investigar sobre la persona o entidad en cuestión, buscar reseñas o testimonios de otros clientes, y verificar su formación y credenciales. También puedes preguntar directamente sobre sus métodos y experiencia. La transparencia y la comunicación abierta son buenas señales de confianza.\"\n",
      "}\n",
      "```\u001b[0m\n",
      "\n",
      "\u001b[1m> Finished chain.\u001b[0m\n",
      "\n",
      "\n",
      "\u001b[1m> Entering new AgentExecutor chain...\u001b[0m\n",
      "\u001b[32;1m\u001b[1;3m```json\n",
      "{\n",
      "    \"action\": \"Knowledge Base\",\n",
      "    \"action_input\": \"cómo saber si estoy en manos de profesionales en el ámbito de la psicología y terapias, incluyendo información sobre certificaciones y credenciales.\"\n",
      "}\n",
      "```\u001b[0m\n",
      "Observation: \u001b[36;1m\u001b[1;3mPuedes pasarte por la consulta del profesional y ver los diplomas y certificados en psicología. Es importante verificar su permiso para el ejercicio de la psicoterapia, como el Heilpraktikererlaubnis für Psychotherapie en Alemania. También puedes buscar al terapeuta en la base de datos de asociaciones profesionales, como la asociación alemana de terapeutas sistémicos certificados o EMDR España. Además, confía en tu intuición; ella te dirá rápidamente si el terapeuta que tienes enfrente sabe lo que hace.\u001b[0m\n",
      "Thought:\u001b[32;1m\u001b[1;3m```json\n",
      "{\n",
      "    \"action\": \"Final Answer\",\n",
      "    \"action_input\": \"Para asegurarte de que estás en manos de profesionales, puedes visitar la consulta del terapeuta y revisar sus diplomas y certificados en psicología. Es importante verificar que tenga el permiso adecuado para ejercer la psicoterapia. También puedes buscar al terapeuta en bases de datos de asociaciones profesionales. Además, confía en tu intuición; a menudo te indicará si el terapeuta es competente.\"\n",
      "}\n",
      "```\u001b[0m\n",
      "\n",
      "\u001b[1m> Finished chain.\u001b[0m\n"
     ]
    }
   ],
   "source": [
    "response = agent.run(\"¿Informacion de contacto?\")\n",
    "print(\"Respuesta del chatbot (General Info):\", response)\n"
   ]
  },
  {
   "cell_type": "code",
   "execution_count": 28,
   "metadata": {},
   "outputs": [
    {
     "name": "stdout",
     "output_type": "stream",
     "text": [
      "\n",
      "\n",
      "\u001b[1m> Entering new AgentExecutor chain...\u001b[0m\n",
      "\u001b[32;1m\u001b[1;3m```json\n",
      "{\n",
      "    \"action\": \"Knowledge Base\",\n",
      "    \"action_input\": \"cuanto cuesta una cita o consulta\"\n",
      "}\n",
      "```\u001b[0m\n",
      "Observation: \u001b[36;1m\u001b[1;3mLos costos de las citas o consultas son los siguientes:\n",
      "\n",
      "- Primera cita o consulta individual: 60€ por 60 minutos.\n",
      "- Primera cita o consulta de pareja o familiar: 80€ por 60 minutos.\n",
      "- Citas o consultas posteriores individuales: 80€ por 60 minutos.\n",
      "- Citas o consultas posteriores de pareja o familiares: 130€ por 90 minutos.\n",
      "- Cita o consulta individual de EMDR: 100€ por 90 minutos.\u001b[0m\n",
      "Thought:\u001b[32;1m\u001b[1;3m```json\n",
      "{\n",
      "    \"action\": \"Final Answer\",\n",
      "    \"action_input\": \"Los costos de las citas o consultas son los siguientes:\\n\\n- Primera cita o consulta individual: 60€ por 60 minutos.\\n- Primera cita o consulta de pareja o familiar: 80€ por 60 minutos.\\n- Citas o consultas posteriores individuales: 80€ por 60 minutos.\\n- Citas o consultas posteriores de pareja o familiares: 130€ por 90 minutos.\\n- Cita o consulta individual de EMDR: 100€ por 90 minutos.\"\n",
      "}\n",
      "```\u001b[0m\n",
      "\n",
      "\u001b[1m> Finished chain.\u001b[0m\n",
      "Respuesta del chatbot (General Info): Los costos de las citas o consultas son los siguientes:\n",
      "\n",
      "- Primera cita o consulta individual: 60€ por 60 minutos.\n",
      "- Primera cita o consulta de pareja o familiar: 80€ por 60 minutos.\n",
      "- Citas o consultas posteriores individuales: 80€ por 60 minutos.\n",
      "- Citas o consultas posteriores de pareja o familiares: 130€ por 90 minutos.\n",
      "- Cita o consulta individual de EMDR: 100€ por 90 minutos.\n"
     ]
    }
   ],
   "source": [
    "response = agent.run(\"¿cuanto cuesta una cita o consulta?\")\n",
    "print(\"Respuesta del chatbot (General Info):\", response)\n"
   ]
  },
  {
   "cell_type": "markdown",
   "metadata": {},
   "source": [
    "gradio"
   ]
  },
  {
   "cell_type": "code",
   "execution_count": 46,
   "metadata": {},
   "outputs": [
    {
     "name": "stdout",
     "output_type": "stream",
     "text": [
      "* Running on local URL:  http://127.0.0.1:7875\n",
      "* Running on public URL: https://3b12b609999064971e.gradio.live\n",
      "\n",
      "This share link expires in 72 hours. For free permanent hosting and GPU upgrades, run `gradio deploy` from the terminal in the working directory to deploy to Hugging Face Spaces (https://huggingface.co/spaces)\n"
     ]
    },
    {
     "data": {
      "text/html": [
       "<div><iframe src=\"https://3b12b609999064971e.gradio.live\" width=\"100%\" height=\"500\" allow=\"autoplay; camera; microphone; clipboard-read; clipboard-write;\" frameborder=\"0\" allowfullscreen></iframe></div>"
      ],
      "text/plain": [
       "<IPython.core.display.HTML object>"
      ]
     },
     "metadata": {},
     "output_type": "display_data"
    },
    {
     "data": {
      "text/plain": []
     },
     "execution_count": 46,
     "metadata": {},
     "output_type": "execute_result"
    },
    {
     "name": "stdout",
     "output_type": "stream",
     "text": [
      "\n",
      "\n",
      "\u001b[1m> Entering new AgentExecutor chain...\u001b[0m\n",
      "\u001b[32;1m\u001b[1;3m```json\n",
      "{\n",
      "    \"action\": \"Knowledge Base\",\n",
      "    \"action_input\": \"que es trauma\"\n",
      "}\n",
      "```\u001b[0m\n",
      "Observation: \u001b[36;1m\u001b[1;3mNo sé.\u001b[0m\n",
      "Thought:\u001b[32;1m\u001b[1;3m```json\n",
      "{\n",
      "    \"action\": \"Final Answer\",\n",
      "    \"action_input\": \"El trauma se refiere a una experiencia emocional o psicológica que resulta de un evento extremadamente estresante o perturbador. Puede incluir experiencias como abuso, accidentes, desastres naturales, o la pérdida de un ser querido. El trauma puede afectar la salud mental y emocional de una persona, y puede manifestarse a través de síntomas como ansiedad, depresión, flashbacks y dificultades en las relaciones interpersonales.\"\n",
      "}\n",
      "```\u001b[0m\n",
      "\n",
      "\u001b[1m> Finished chain.\u001b[0m\n",
      "\n",
      "\n",
      "\u001b[1m> Entering new AgentExecutor chain...\u001b[0m\n",
      "\u001b[32;1m\u001b[1;3m```json\n",
      "{\n",
      "    \"action\": \"Knowledge Base\",\n",
      "    \"action_input\": \"cuanto cuesta una consulta\"\n",
      "}\n",
      "```\u001b[0m\n",
      "Observation: \u001b[36;1m\u001b[1;3mLa primera cita o consulta individual cuesta 60€ por 60 minutos. Las citas o consultas posteriores individuales cuestan 80€ por 60 minutos. Si se trata de una consulta de pareja o familiar, la primera cita cuesta 80€ por 60 minutos y las citas posteriores 130€ por 90 minutos. Además, una cita o consulta individual de EMDR cuesta 100€ por 90 minutos.\u001b[0m\n",
      "Thought:\u001b[32;1m\u001b[1;3m```json\n",
      "{\n",
      "    \"action\": \"Final Answer\",\n",
      "    \"action_input\": \"La primera cita o consulta individual cuesta 60€ por 60 minutos. Las citas o consultas posteriores individuales cuestan 80€ por 60 minutos. Si se trata de una consulta de pareja o familiar, la primera cita cuesta 80€ por 60 minutos y las citas posteriores 130€ por 90 minutos. Además, una cita o consulta individual de EMDR cuesta 100€ por 90 minutos.\"\n",
      "}\n",
      "```\u001b[0m\n",
      "\n",
      "\u001b[1m> Finished chain.\u001b[0m\n",
      "\n",
      "\n",
      "\u001b[1m> Entering new AgentExecutor chain...\u001b[0m\n",
      "\u001b[32;1m\u001b[1;3m```json\n",
      "{\n",
      "    \"action\": \"Knowledge Base\",\n",
      "    \"action_input\": \"tipo de terapia que realiza Alejandra Roncancio\"\n",
      "}\n",
      "```\u001b[0m\n",
      "Observation: \u001b[36;1m\u001b[1;3mNo tengo información sobre el tipo de terapia que realiza Alejandra Roncancio.\u001b[0m\n",
      "Thought:\u001b[32;1m\u001b[1;3m```json\n",
      "{\n",
      "    \"action\": \"Final Answer\",\n",
      "    \"action_input\": \"No tengo información sobre el tipo de terapia que realiza Alejandra Roncancio.\"\n",
      "}\n",
      "```\u001b[0m\n",
      "\n",
      "\u001b[1m> Finished chain.\u001b[0m\n",
      "\n",
      "\n",
      "\u001b[1m> Entering new AgentExecutor chain...\u001b[0m\n",
      "\u001b[32;1m\u001b[1;3m```json\n",
      "{\n",
      "    \"action\": \"Knowledge Base\",\n",
      "    \"action_input\": \"que es el emdr?\"\n",
      "}\n",
      "```\u001b[0m\n",
      "Observation: \u001b[36;1m\u001b[1;3mNo sé.\u001b[0m\n",
      "Thought:\u001b[32;1m\u001b[1;3m```json\n",
      "{\n",
      "    \"action\": \"Final Answer\",\n",
      "    \"action_input\": \"EMDR, que significa Desensibilización y Reprocesamiento por Movimiento Ocular, es una terapia psicológica que se utiliza principalmente para tratar el trastorno de estrés postraumático (TEPT). Esta técnica implica la estimulación bilateral, a menudo a través de movimientos oculares, mientras el paciente recuerda experiencias traumáticas. El objetivo es ayudar a procesar y reducir la angustia asociada con esos recuerdos, facilitando así la curación emocional.\"\n",
      "}\n",
      "```\u001b[0m\n",
      "\n",
      "\u001b[1m> Finished chain.\u001b[0m\n",
      "\n",
      "\n",
      "\u001b[1m> Entering new AgentExecutor chain...\u001b[0m\n",
      "\u001b[32;1m\u001b[1;3m```json\n",
      "{\n",
      "    \"action\": \"Knowledge Base\",\n",
      "    \"action_input\": \"¿El seguro cubre las consultas de terapia EMDR?\"\n",
      "}\n",
      "```\u001b[0m\n",
      "Observation: \u001b[36;1m\u001b[1;3mNo sé.\u001b[0m\n",
      "Thought:\u001b[32;1m\u001b[1;3m```json\n",
      "{\n",
      "    \"action\": \"Final Answer\",\n",
      "    \"action_input\": \"No tengo información específica sobre si el seguro cubre las consultas de terapia EMDR. Te recomendaría que consultes directamente con tu compañía de seguros para obtener detalles sobre la cobertura.\"\n",
      "}\n",
      "```\u001b[0m\n",
      "\n",
      "\u001b[1m> Finished chain.\u001b[0m\n",
      "\n",
      "\n",
      "\u001b[1m> Entering new AgentExecutor chain...\u001b[0m\n",
      "\u001b[32;1m\u001b[1;3m```json\n",
      "{\n",
      "    \"action\": \"Final Answer\",\n",
      "    \"action_input\": \"La terapia psicológica es un proceso en el que un profesional de la salud mental ayuda a una persona a abordar y resolver problemas emocionales, psicológicos o conductuales. Funciona a través de diversas técnicas y enfoques, dependiendo del tipo de terapia y las necesidades del paciente. Generalmente, el proceso incluye: 1. **Evaluación**: El terapeuta evalúa la situación del paciente, sus síntomas y su historia personal. 2. **Establecimiento de objetivos**: Juntos, el terapeuta y el paciente establecen metas para la terapia. 3. **Intervención**: Se utilizan diferentes técnicas (como la terapia cognitivo-conductual, la terapia humanista, EMDR, entre otras) para ayudar al paciente a explorar sus pensamientos, emociones y comportamientos. 4. **Seguimiento**: Se revisa el progreso y se ajustan las estrategias según sea necesario. La terapia puede ser individual, de pareja, familiar o grupal, y su duración varía según las necesidades del paciente.\"\n",
      "}\n",
      "```\u001b[0m\n",
      "\n",
      "\u001b[1m> Finished chain.\u001b[0m\n",
      "\n",
      "\n",
      "\u001b[1m> Entering new AgentExecutor chain...\u001b[0m\n",
      "\u001b[32;1m\u001b[1;3m```json\n",
      "{\n",
      "    \"action\": \"Knowledge Base\",\n",
      "    \"action_input\": \"que es trauma?\"\n",
      "}\n",
      "```\u001b[0m\n",
      "Observation: \u001b[36;1m\u001b[1;3mNo sé.\u001b[0m\n",
      "Thought:\u001b[32;1m\u001b[1;3m```json\n",
      "{\n",
      "    \"action\": \"Final Answer\",\n",
      "    \"action_input\": \"El trauma se refiere a una experiencia emocional o psicológica que resulta de un evento extremadamente estresante o perturbador. Puede incluir eventos como accidentes, violencia, abuso, desastres naturales, entre otros. El trauma puede afectar la salud mental y emocional de una persona, causando síntomas como ansiedad, depresión, flashbacks y dificultades para relacionarse con los demás.\"\n",
      "}\n",
      "```\u001b[0m\n",
      "\n",
      "\u001b[1m> Finished chain.\u001b[0m\n",
      "\n",
      "\n",
      "\u001b[1m> Entering new AgentExecutor chain...\u001b[0m\n",
      "\u001b[32;1m\u001b[1;3m```json\n",
      "{\n",
      "    \"action\": \"Final Answer\",\n",
      "    \"action_input\": \"¡Hola! ¿En qué puedo ayudarte hoy?\"\n",
      "}\n",
      "```\u001b[0m\n",
      "\n",
      "\u001b[1m> Finished chain.\u001b[0m\n",
      "\n",
      "\n",
      "\u001b[1m> Entering new AgentExecutor chain...\u001b[0m\n",
      "\u001b[32;1m\u001b[1;3m```json\n",
      "{\n",
      "    \"action\": \"Knowledge Base\",\n",
      "    \"action_input\": \"¿Cómo saber si necesito terapia?\"\n",
      "}\n",
      "```\u001b[0m\n",
      "Observation: \u001b[36;1m\u001b[1;3mCreo que depende mucho del caso. Si una persona tiene síntomas muy incapacitantes, que le impidan tener conciencia de sí mismo, que le lleven a tener pensamientos suicidas, que pongan en riesgo la integridad propia o ajena, en general está indicado acudir inmediatamente a una unidad de psiquiatría. \n",
      "\n",
      "Si hay malestar, pero la persona aún puede responder por sus actos, sin ponerse en riesgo a sí misma o a otras personas y tiene la capacidad de reflexionar sobre sí mismo, puede optar por visitar a un psiquiatra o a un psicoterapeuta. También puede ser provechoso un tratamiento combinado. \n",
      "\n",
      "Es importante evaluar tu situación personal y considerar si sientes que necesitas apoyo para manejar tus emociones, pensamientos o situaciones en tu vida.\u001b[0m\n",
      "Thought:\u001b[32;1m\u001b[1;3m```json\n",
      "{\n",
      "    \"action\": \"Final Answer\",\n",
      "    \"action_input\": \"Determinar si necesitas terapia depende de tu situación personal. Si experimentas síntomas incapacitantes, pensamientos suicidas o te sientes en riesgo, es importante buscar ayuda de inmediato. Si sientes malestar pero puedes reflexionar sobre ti mismo y no estás en riesgo, considerar visitar a un psiquiatra o psicoterapeuta puede ser útil. Evaluar tu situación y considerar si necesitas apoyo para manejar tus emociones y pensamientos es clave.\"\n",
      "}\n",
      "```\u001b[0m\n",
      "\n",
      "\u001b[1m> Finished chain.\u001b[0m\n",
      "\n",
      "\n",
      "\u001b[1m> Entering new AgentExecutor chain...\u001b[0m\n",
      "\u001b[32;1m\u001b[1;3m```json\n",
      "{\n",
      "    \"action\": \"Knowledge Base\",\n",
      "    \"action_input\": \"¿Qué es trauma?\"\n",
      "}\n",
      "```\u001b[0m\n",
      "Observation: \u001b[36;1m\u001b[1;3mNo sé.\u001b[0m\n",
      "Thought:\u001b[32;1m\u001b[1;3m```json\n",
      "{\n",
      "    \"action\": \"Final Answer\",\n",
      "    \"action_input\": \"El trauma se refiere a una experiencia emocional o psicológica que resulta de un evento extremadamente estresante o perturbador. Puede incluir eventos como accidentes, violencia, abuso, desastres naturales, entre otros. El trauma puede afectar la salud mental y emocional de una persona, causando síntomas como ansiedad, depresión, flashbacks y dificultades para relacionarse con los demás.\"\n",
      "}\n",
      "```\u001b[0m\n",
      "\n",
      "\u001b[1m> Finished chain.\u001b[0m\n",
      "\n",
      "\n",
      "\u001b[1m> Entering new AgentExecutor chain...\u001b[0m\n",
      "\u001b[32;1m\u001b[1;3m```json\n",
      "{\n",
      "    \"action\": \"Knowledge Base\",\n",
      "    \"action_input\": \"¿Qué pasa en una terapia psicológica?\"\n",
      "}\n",
      "```\u001b[0m\n",
      "Observation: \u001b[36;1m\u001b[1;3mEn una terapia psicológica, el proceso puede variar dependiendo del enfoque del terapeuta y las necesidades del paciente. Generalmente, en la primera cita, el terapeuta se dedica a conocer al paciente, hacer preguntas y escuchar las razones que lo llevan a la consulta. Con esta información, el terapeuta puede determinar la forma de trabajo más adecuada y transmitir sus impresiones.\n",
      "\n",
      "En las citas posteriores, se pueden trabajar los resultados de tareas propuestas, realizar ejercicios, o preparar al paciente para técnicas específicas como EMDR, especialmente si se trata de procesamiento de trauma. El enfoque se centra en lo que el paciente trae a la consulta y en los aspectos de su vida relacionados con sus dificultades.\n",
      "\n",
      "Es importante mencionar que la terapia puede ser diferente para cada persona y que el terapeuta adaptará su enfoque según el caso específico.\u001b[0m\n",
      "Thought:\u001b[32;1m\u001b[1;3m```json\n",
      "{\n",
      "    \"action\": \"Final Answer\",\n",
      "    \"action_input\": \"En una terapia psicológica, el proceso puede variar dependiendo del enfoque del terapeuta y las necesidades del paciente. Generalmente, en la primera cita, el terapeuta se dedica a conocer al paciente, hacer preguntas y escuchar las razones que lo llevan a la consulta. Con esta información, el terapeuta puede determinar la forma de trabajo más adecuada y transmitir sus impresiones. En las citas posteriores, se pueden trabajar los resultados de tareas propuestas, realizar ejercicios, o preparar al paciente para técnicas específicas como EMDR, especialmente si se trata de procesamiento de trauma. El enfoque se centra en lo que el paciente trae a la consulta y en los aspectos de su vida relacionados con sus dificultades. Es importante mencionar que la terapia puede ser diferente para cada persona y que el terapeuta adaptará su enfoque según el caso específico.\"\n",
      "}\n",
      "```\u001b[0m\n",
      "\n",
      "\u001b[1m> Finished chain.\u001b[0m\n",
      "\n",
      "\n",
      "\u001b[1m> Entering new AgentExecutor chain...\u001b[0m\n",
      "\u001b[32;1m\u001b[1;3m```json\n",
      "{\n",
      "    \"action\": \"Knowledge Base\",\n",
      "    \"action_input\": \"Costo de una consulta psicológica\"\n",
      "}\n",
      "```\u001b[0m\n",
      "Observation: \u001b[36;1m\u001b[1;3mEl costo de una consulta psicológica es el siguiente:\n",
      "\n",
      "- Primera cita o consulta individual: 60€ por 60 minutos.\n",
      "- Primera cita o consulta de pareja o familiar: 80€ por 60 minutos.\n",
      "- Citas o consultas posteriores individuales: 80€ por 60 minutos.\n",
      "- Citas o consultas posteriores de pareja o familiares: 130€ por 90 minutos.\n",
      "- Cita o consulta individual de EMDR: 100€ por 90 minutos.\u001b[0m\n",
      "Thought:\u001b[32;1m\u001b[1;3m```json\n",
      "{\n",
      "    \"action\": \"Final Answer\",\n",
      "    \"action_input\": \"El costo de una consulta psicológica es el siguiente: \\n\\n- Primera cita o consulta individual: 60€ por 60 minutos. \\n- Primera cita o consulta de pareja o familiar: 80€ por 60 minutos. \\n- Citas o consultas posteriores individuales: 80€ por 60 minutos. \\n- Citas o consultas posteriores de pareja o familiares: 130€ por 90 minutos. \\n- Cita o consulta individual de EMDR: 100€ por 90 minutos.\"\n",
      "}\n",
      "```\u001b[0m\n",
      "\n",
      "\u001b[1m> Finished chain.\u001b[0m\n"
     ]
    }
   ],
   "source": [
    "import gradio as gr\n",
    "\n",
    "# Función para conectar el chatbot con Gradio\n",
    "def agente_chatbot(user_input):\n",
    "    try:\n",
    "        response = agent.run(user_input)  # Llamamos al agente para generar la respuesta\n",
    "        return response\n",
    "    except Exception as e:\n",
    "        return f\"Error: {str(e)}\"\n",
    "\n",
    "# Configurar la interfaz de Gradio con estilos personalizados\n",
    "with gr.Blocks(css=\"\"\"\n",
    "    @import url('https://fonts.googleapis.com/css2?family=Open+Sans:wght@400;600&display=swap');\n",
    "    \n",
    "    .gradio-container {\n",
    "        background-color: #f5f5f5;\n",
    "        font-family: 'Open Sans', sans-serif !important;\n",
    "    }\n",
    "\n",
    "    button { \n",
    "        background-color: #d50001 !important; \n",
    "        color: white !important; \n",
    "        border-radius: 5px !important;\n",
    "        font-family: 'Open Sans', sans-serif !important;\n",
    "        font-weight: 600 !important;\n",
    "    }\n",
    "\"\"\") as demo:\n",
    "    gr.Markdown(\"<h1 style='text-align: center; color: #000000; font-family: Open Sans;'>Chatbot de Alejandra Roncancio</h1>\")\n",
    "    gr.Markdown(\"<p style='text-align: center; font-family: Open Sans;'>Chatea con un agente basado en LangChain y Pinecone.</p>\")\n",
    "    \n",
    "    with gr.Row():\n",
    "        user_input = gr.Textbox(label=\"Pregúntame lo que quieras\", placeholder=\"Escribe aquí tu pregunta...\", scale=8)\n",
    "        submit_button = gr.Button(\"Enviar\", variant=\"primary\", scale=1)\n",
    "\n",
    "    output = gr.Textbox(label=\"Respuesta\", interactive=False)\n",
    "\n",
    "    submit_button.click(fn=agente_chatbot, inputs=user_input, outputs=output)\n",
    "\n",
    "# Lanzar la aplicación de Gradio\n",
    "demo.launch(pwa=True,share=True)\n",
    "\n"
   ]
  }
 ],
 "metadata": {
  "kernelspec": {
   "display_name": "base",
   "language": "python",
   "name": "python3"
  },
  "language_info": {
   "codemirror_mode": {
    "name": "ipython",
    "version": 3
   },
   "file_extension": ".py",
   "mimetype": "text/x-python",
   "name": "python",
   "nbconvert_exporter": "python",
   "pygments_lexer": "ipython3",
   "version": "3.12.4"
  }
 },
 "nbformat": 4,
 "nbformat_minor": 2
}
